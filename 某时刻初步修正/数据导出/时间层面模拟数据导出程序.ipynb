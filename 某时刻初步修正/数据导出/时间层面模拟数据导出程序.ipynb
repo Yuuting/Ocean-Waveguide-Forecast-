{
 "cells": [
  {
   "cell_type": "code",
   "execution_count": 1,
   "metadata": {},
   "outputs": [],
   "source": [
    "from netCDF4 import Dataset\n",
    "import numpy as np\n",
    "import pandas as pd"
   ]
  },
  {
   "cell_type": "code",
   "execution_count": 2,
   "metadata": {},
   "outputs": [],
   "source": [
    "path='‪D:/22monidata/wrfout_d02_2017-01-02_00_00_00'\n",
    "raw_data=Dataset(path)"
   ]
  },
  {
   "cell_type": "code",
   "execution_count": 3,
   "metadata": {},
   "outputs": [],
   "source": [
    "#(25,85,93,90)(nt,nl,ny,nx)第一维标签"
   ]
  },
  {
   "cell_type": "code",
   "execution_count": 4,
   "metadata": {},
   "outputs": [],
   "source": [
    "nx = pd.Series(np.arange(1,91)) #nx东西格点数"
   ]
  },
  {
   "cell_type": "code",
   "execution_count": 5,
   "metadata": {},
   "outputs": [],
   "source": [
    "#(25,85,93,90)(nt,nl,ny,nx)第一维标签"
   ]
  },
  {
   "cell_type": "code",
   "execution_count": 6,
   "metadata": {},
   "outputs": [],
   "source": [
    "ny = pd.Series(np.arange(1,94)) #ny南北格点数"
   ]
  },
  {
   "cell_type": "code",
   "execution_count": 7,
   "metadata": {},
   "outputs": [],
   "source": [
    "#(25,85,93,90)(nt,nl,ny,nx)第一维标签"
   ]
  },
  {
   "cell_type": "code",
   "execution_count": 8,
   "metadata": {},
   "outputs": [],
   "source": [
    "nl = pd.Series(np.arange(1,86))"
   ]
  },
  {
   "cell_type": "code",
   "execution_count": 9,
   "metadata": {},
   "outputs": [],
   "source": [
    "#(25,85,93,90)(nt,nl,ny,nx)第一维标签"
   ]
  },
  {
   "cell_type": "code",
   "execution_count": 10,
   "metadata": {},
   "outputs": [],
   "source": [
    "nt = pd.Series(np.arange(1,26))"
   ]
  },
  {
   "cell_type": "code",
   "execution_count": 11,
   "metadata": {},
   "outputs": [],
   "source": [
    "#展开标签"
   ]
  },
  {
   "cell_type": "code",
   "execution_count": 12,
   "metadata": {},
   "outputs": [
    {
     "data": {
      "text/html": [
       "<div>\n",
       "<style scoped>\n",
       "    .dataframe tbody tr th:only-of-type {\n",
       "        vertical-align: middle;\n",
       "    }\n",
       "\n",
       "    .dataframe tbody tr th {\n",
       "        vertical-align: top;\n",
       "    }\n",
       "\n",
       "    .dataframe thead th {\n",
       "        text-align: right;\n",
       "    }\n",
       "</style>\n",
       "<table border=\"1\" class=\"dataframe\">\n",
       "  <thead>\n",
       "    <tr style=\"text-align: right;\">\n",
       "      <th></th>\n",
       "      <th>0</th>\n",
       "      <th>1</th>\n",
       "      <th>2</th>\n",
       "      <th>3</th>\n",
       "      <th>4</th>\n",
       "      <th>5</th>\n",
       "      <th>6</th>\n",
       "      <th>7</th>\n",
       "      <th>8</th>\n",
       "      <th>9</th>\n",
       "      <th>...</th>\n",
       "      <th>17786240</th>\n",
       "      <th>17786241</th>\n",
       "      <th>17786242</th>\n",
       "      <th>17786243</th>\n",
       "      <th>17786244</th>\n",
       "      <th>17786245</th>\n",
       "      <th>17786246</th>\n",
       "      <th>17786247</th>\n",
       "      <th>17786248</th>\n",
       "      <th>17786249</th>\n",
       "    </tr>\n",
       "  </thead>\n",
       "  <tbody>\n",
       "    <tr>\n",
       "      <td>nx</td>\n",
       "      <td>1</td>\n",
       "      <td>1</td>\n",
       "      <td>1</td>\n",
       "      <td>1</td>\n",
       "      <td>1</td>\n",
       "      <td>1</td>\n",
       "      <td>1</td>\n",
       "      <td>1</td>\n",
       "      <td>1</td>\n",
       "      <td>1</td>\n",
       "      <td>...</td>\n",
       "      <td>90</td>\n",
       "      <td>90</td>\n",
       "      <td>90</td>\n",
       "      <td>90</td>\n",
       "      <td>90</td>\n",
       "      <td>90</td>\n",
       "      <td>90</td>\n",
       "      <td>90</td>\n",
       "      <td>90</td>\n",
       "      <td>90</td>\n",
       "    </tr>\n",
       "    <tr>\n",
       "      <td>ny</td>\n",
       "      <td>1</td>\n",
       "      <td>1</td>\n",
       "      <td>1</td>\n",
       "      <td>1</td>\n",
       "      <td>1</td>\n",
       "      <td>1</td>\n",
       "      <td>1</td>\n",
       "      <td>1</td>\n",
       "      <td>1</td>\n",
       "      <td>1</td>\n",
       "      <td>...</td>\n",
       "      <td>93</td>\n",
       "      <td>93</td>\n",
       "      <td>93</td>\n",
       "      <td>93</td>\n",
       "      <td>93</td>\n",
       "      <td>93</td>\n",
       "      <td>93</td>\n",
       "      <td>93</td>\n",
       "      <td>93</td>\n",
       "      <td>93</td>\n",
       "    </tr>\n",
       "    <tr>\n",
       "      <td>nl</td>\n",
       "      <td>1</td>\n",
       "      <td>1</td>\n",
       "      <td>1</td>\n",
       "      <td>1</td>\n",
       "      <td>1</td>\n",
       "      <td>1</td>\n",
       "      <td>1</td>\n",
       "      <td>1</td>\n",
       "      <td>1</td>\n",
       "      <td>1</td>\n",
       "      <td>...</td>\n",
       "      <td>85</td>\n",
       "      <td>85</td>\n",
       "      <td>85</td>\n",
       "      <td>85</td>\n",
       "      <td>85</td>\n",
       "      <td>85</td>\n",
       "      <td>85</td>\n",
       "      <td>85</td>\n",
       "      <td>85</td>\n",
       "      <td>85</td>\n",
       "    </tr>\n",
       "    <tr>\n",
       "      <td>nt</td>\n",
       "      <td>1</td>\n",
       "      <td>2</td>\n",
       "      <td>3</td>\n",
       "      <td>4</td>\n",
       "      <td>5</td>\n",
       "      <td>6</td>\n",
       "      <td>7</td>\n",
       "      <td>8</td>\n",
       "      <td>9</td>\n",
       "      <td>10</td>\n",
       "      <td>...</td>\n",
       "      <td>16</td>\n",
       "      <td>17</td>\n",
       "      <td>18</td>\n",
       "      <td>19</td>\n",
       "      <td>20</td>\n",
       "      <td>21</td>\n",
       "      <td>22</td>\n",
       "      <td>23</td>\n",
       "      <td>24</td>\n",
       "      <td>25</td>\n",
       "    </tr>\n",
       "  </tbody>\n",
       "</table>\n",
       "<p>4 rows × 17786250 columns</p>\n",
       "</div>"
      ],
      "text/plain": [
       "    0         1         2         3         4         5         6         \\\n",
       "nx         1         1         1         1         1         1         1   \n",
       "ny         1         1         1         1         1         1         1   \n",
       "nl         1         1         1         1         1         1         1   \n",
       "nt         1         2         3         4         5         6         7   \n",
       "\n",
       "    7         8         9         ...  17786240  17786241  17786242  17786243  \\\n",
       "nx         1         1         1  ...        90        90        90        90   \n",
       "ny         1         1         1  ...        93        93        93        93   \n",
       "nl         1         1         1  ...        85        85        85        85   \n",
       "nt         8         9        10  ...        16        17        18        19   \n",
       "\n",
       "    17786244  17786245  17786246  17786247  17786248  17786249  \n",
       "nx        90        90        90        90        90        90  \n",
       "ny        93        93        93        93        93        93  \n",
       "nl        85        85        85        85        85        85  \n",
       "nt        20        21        22        23        24        25  \n",
       "\n",
       "[4 rows x 17786250 columns]"
      ]
     },
     "execution_count": 12,
     "metadata": {},
     "output_type": "execute_result"
    }
   ],
   "source": [
    "import itertools\n",
    "# index的笛卡尔乘积。注意：高维在前，低维在后\n",
    "prod = itertools.product(nx,ny,nl,nt)\n",
    "# 转换为DataFrame\n",
    "prod = pd.DataFrame([x for x in prod])\n",
    "prod.columns = ['nx','ny', 'nl', 'nt']\n",
    "prod.T"
   ]
  },
  {
   "cell_type": "code",
   "execution_count": 13,
   "metadata": {},
   "outputs": [],
   "source": [
    "# 所有使用到的变量名\n",
    "used_features = [\n",
    "    'Times',   # 时间\n",
    "    'XLAT',    # 维度\n",
    "    'XLONG',   # 经度\n",
    "    'U',       # 东西风力\n",
    "    'V',       # 南北风力\n",
    "    'PH',      # perturbation geopotential，扰动位势\n",
    "    'PHB',     # base-state geopotential，基态位势\n",
    "    'T',       # perturbation potential temperature，扰动潜在温度\n",
    "    'P',       # perturbation pressure，扰动压强\n",
    "    'PB',      # base state pressure，基态压强\n",
    "    'HGT',     # Terrain height，海拔高度\n",
    "    'QVAPOR',  # 水汽混合比\n",
    "]"
   ]
  },
  {
   "cell_type": "code",
   "execution_count": 14,
   "metadata": {},
   "outputs": [
    {
     "data": {
      "text/plain": [
       "(25, 85, 93, 90)"
      ]
     },
     "execution_count": 14,
     "metadata": {},
     "output_type": "execute_result"
    }
   ],
   "source": [
    "raw_data.variables['T'][:]    # 访问变量数据的方法，返回numpy掩码数组\n",
    "np.array(raw_data.variables['T'][:])     # 可以直接转成numpy数组\n",
    "# 利用‘P’和‘PB’计算气压值pressure\n",
    "pressure = (raw_data.variables['P'][:] + raw_data.variables['PB'][:]) / 100\n",
    "pressure.shape"
   ]
  },
  {
   "cell_type": "code",
   "execution_count": 15,
   "metadata": {},
   "outputs": [
    {
     "data": {
      "text/plain": [
       "(25, 85, 93, 90)"
      ]
     },
     "execution_count": 15,
     "metadata": {},
     "output_type": "execute_result"
    }
   ],
   "source": [
    "# 利用‘PH’和‘PHB’计算高度值height\n",
    "PH, PHB = raw_data.variables['PH'][:], raw_data.variables['PHB'][:]\n",
    "PHH = 0.5 * (PH[:, :85, :, :] + PH[:, 1:86, :, :])\n",
    "PHBH = 0.5 * (PHB[:, :85, :, :] + PHB[:, 1:86, :, :])\n",
    "GEOPT = PHH + PHBH\n",
    "height = GEOPT / 9.81   # 求高度值\n",
    "height.shape"
   ]
  },
  {
   "cell_type": "code",
   "execution_count": 16,
   "metadata": {},
   "outputs": [
    {
     "data": {
      "text/plain": [
       "(25, 85, 93, 90)"
      ]
     },
     "execution_count": 16,
     "metadata": {},
     "output_type": "execute_result"
    }
   ],
   "source": [
    "# 利用‘T’和‘pressure’计算温度值T\n",
    "T = raw_data.variables['T'][:]\n",
    "Tem = (T + 300.) / (1000. / pressure) **0.286\n",
    "Tem.shape"
   ]
  },
  {
   "cell_type": "code",
   "execution_count": 17,
   "metadata": {},
   "outputs": [
    {
     "data": {
      "text/plain": [
       "((25, 85, 93, 90), (25, 85, 93, 90))"
      ]
     },
     "execution_count": 17,
     "metadata": {},
     "output_type": "execute_result"
    }
   ],
   "source": [
    "# 利用‘QVAPOR’计算水气压值\n",
    "QVAPOR = raw_data.variables['QVAPOR'][:]  # 水汽混合比\n",
    "e = QVAPOR * pressure / (0.622 + QVAPOR) \n",
    "QVAPOR.shape,e.shape"
   ]
  },
  {
   "cell_type": "code",
   "execution_count": 18,
   "metadata": {},
   "outputs": [
    {
     "data": {
      "text/plain": [
       "((25, 93, 90), (25, 93, 90), (25, 93, 90))"
      ]
     },
     "execution_count": 18,
     "metadata": {},
     "output_type": "execute_result"
    }
   ],
   "source": [
    "XLONG = raw_data.variables['XLONG'][:]    # 读取经度值\n",
    "HGT = raw_data.variables['HGT'][:]    # 读取海拔高度\n",
    "XLAT = raw_data.variables['XLAT'][:]    # 读取纬度值\n",
    "XLONG.shape,XLAT.shape,HGT.shape"
   ]
  },
  {
   "cell_type": "code",
   "execution_count": 19,
   "metadata": {},
   "outputs": [
    {
     "data": {
      "text/plain": [
       "((25, 93, 90, 85), (25, 93, 90, 85), (25, 93, 90, 85))"
      ]
     },
     "execution_count": 19,
     "metadata": {},
     "output_type": "execute_result"
    }
   ],
   "source": [
    "xlong, xlat,hgt = np.zeros((25,93,90,85)), np.zeros((25,93,90,85)), np.zeros((25,93,90,85))\n",
    "#转化为四维数组\n",
    "for i in range(85):\n",
    "    xlong[:,:,:,i]=XLONG[:,:,:]\n",
    "    xlat[:,:,:,i]=XLAT[:,:,:]\n",
    "    hgt[:,:,:,i]=HGT[:,:,:]\n",
    "xlong.shape,xlat.shape,hgt.shape"
   ]
  },
  {
   "cell_type": "code",
   "execution_count": 20,
   "metadata": {},
   "outputs": [
    {
     "data": {
      "text/plain": [
       "[(90, 93, 85, 25),\n",
       " (90, 93, 85, 25),\n",
       " (90, 93, 85, 25),\n",
       " (90, 93, 85, 25),\n",
       " (90, 93, 85, 25),\n",
       " (90, 93, 85, 25),\n",
       " (90, 93, 85, 25),\n",
       " (90, 93, 85, 25)]"
      ]
     },
     "execution_count": 20,
     "metadata": {},
     "output_type": "execute_result"
    }
   ],
   "source": [
    "# 根据Fortran的代码转化数据维度  (nx东西格点数, ny南北格点数, nl垂直层数, nt时次数)\n",
    "e = e.transpose((3, 2, 1, 0))\n",
    "Tem = Tem.transpose((3, 2, 1, 0))\n",
    "QVAPOR = QVAPOR.transpose((3, 2, 1, 0))\n",
    "pressure = pressure.transpose((3, 2, 1, 0))\n",
    "height = height.transpose((3, 2, 1, 0))\n",
    "xlong = xlong.transpose((2, 1, 3,0))\n",
    "hgt = hgt.transpose((2, 1, 3,0))\n",
    "xlat = xlat.transpose((2, 1, 3,0))\n",
    "z=height-hgt\n",
    "[e.shape, Tem.shape, pressure.shape, height.shape, hgt.shape, xlat.shape ,xlong.shape,z.shape]"
   ]
  },
  {
   "cell_type": "code",
   "execution_count": 21,
   "metadata": {},
   "outputs": [
    {
     "data": {
      "text/plain": [
       "((90, 93, 85, 25), (90, 93, 85, 25))"
      ]
     },
     "execution_count": 21,
     "metadata": {},
     "output_type": "execute_result"
    }
   ],
   "source": [
    "# 计算折射率，NN是原始折射率，MM是修正折射率\n",
    "re = 6371.\n",
    "NN = (3.73*10**5*e)/(Tem**2)+(77.6*pressure)/(Tem)\n",
    "MM = (3.73*10**5*e)/(Tem**2)+(77.6*pressure)/(Tem)+((height-hgt)/(re*1000.)*10**6)\n",
    "NN.shape, MM.shape"
   ]
  },
  {
   "cell_type": "code",
   "execution_count": 22,
   "metadata": {},
   "outputs": [],
   "source": [
    "a=xlong.flatten()\n",
    "a = pd.Series(a)\n",
    "a.name = 'xlong'\n",
    "\n",
    "b=xlat.flatten()\n",
    "b = pd.Series(b)\n",
    "b.name = 'xlat'\n",
    "\n",
    "c=hgt.flatten()\n",
    "c = pd.Series(c)\n",
    "c.name = 'hgt'\n",
    "\n",
    "o=height.flatten()\n",
    "o=pd.Series(o)\n",
    "o.name='height'\n",
    "\n",
    "d=z.flatten()\n",
    "d = pd.Series(d)\n",
    "d.name = 'z'\n",
    "\n",
    "f=e.flatten()\n",
    "f = pd.Series(f)\n",
    "f.name = 'e'\n",
    "\n",
    "g=pressure.flatten()\n",
    "g = pd.Series(g)\n",
    "g.name = 'pressure'\n",
    "\n",
    "h=Tem.flatten()\n",
    "h = pd.Series(h)\n",
    "h.name = 'Tem'\n",
    "\n",
    "l=QVAPOR.flatten()\n",
    "l = pd.Series(l)\n",
    "l.name = 'QVAPOR'\n",
    "\n",
    "mm=MM.flatten()\n",
    "mm = pd.Series(mm)\n",
    "mm.name = 'MM'\n",
    "\n",
    "nn=NN.flatten()\n",
    "nn = pd.Series(nn)\n",
    "nn.name = 'NN'"
   ]
  },
  {
   "cell_type": "code",
   "execution_count": 23,
   "metadata": {},
   "outputs": [
    {
     "data": {
      "text/html": [
       "<div>\n",
       "<style scoped>\n",
       "    .dataframe tbody tr th:only-of-type {\n",
       "        vertical-align: middle;\n",
       "    }\n",
       "\n",
       "    .dataframe tbody tr th {\n",
       "        vertical-align: top;\n",
       "    }\n",
       "\n",
       "    .dataframe thead th {\n",
       "        text-align: right;\n",
       "    }\n",
       "</style>\n",
       "<table border=\"1\" class=\"dataframe\">\n",
       "  <thead>\n",
       "    <tr style=\"text-align: right;\">\n",
       "      <th></th>\n",
       "      <th>nx</th>\n",
       "      <th>ny</th>\n",
       "      <th>nl</th>\n",
       "      <th>nt</th>\n",
       "      <th>xlong</th>\n",
       "      <th>xlat</th>\n",
       "      <th>hgt</th>\n",
       "      <th>z</th>\n",
       "      <th>e</th>\n",
       "      <th>pressure</th>\n",
       "      <th>Tem</th>\n",
       "      <th>QVAPOR</th>\n",
       "      <th>MM</th>\n",
       "      <th>NN</th>\n",
       "    </tr>\n",
       "  </thead>\n",
       "  <tbody>\n",
       "    <tr>\n",
       "      <td>0</td>\n",
       "      <td>1</td>\n",
       "      <td>1</td>\n",
       "      <td>1</td>\n",
       "      <td>1</td>\n",
       "      <td>104.101074</td>\n",
       "      <td>1.387764</td>\n",
       "      <td>18.679893</td>\n",
       "      <td>3.232424</td>\n",
       "      <td>29.763758</td>\n",
       "      <td>1005.953430</td>\n",
       "      <td>299.462860</td>\n",
       "      <td>0.018965</td>\n",
       "      <td>384.977855</td>\n",
       "      <td>384.470490</td>\n",
       "    </tr>\n",
       "    <tr>\n",
       "      <td>1</td>\n",
       "      <td>1</td>\n",
       "      <td>1</td>\n",
       "      <td>1</td>\n",
       "      <td>2</td>\n",
       "      <td>104.101074</td>\n",
       "      <td>1.387764</td>\n",
       "      <td>18.679893</td>\n",
       "      <td>3.240555</td>\n",
       "      <td>29.191788</td>\n",
       "      <td>1006.418579</td>\n",
       "      <td>300.404114</td>\n",
       "      <td>0.018580</td>\n",
       "      <td>381.143834</td>\n",
       "      <td>380.635193</td>\n",
       "    </tr>\n",
       "    <tr>\n",
       "      <td>2</td>\n",
       "      <td>1</td>\n",
       "      <td>1</td>\n",
       "      <td>1</td>\n",
       "      <td>3</td>\n",
       "      <td>104.101074</td>\n",
       "      <td>1.387764</td>\n",
       "      <td>18.679893</td>\n",
       "      <td>3.241436</td>\n",
       "      <td>29.299547</td>\n",
       "      <td>1006.550781</td>\n",
       "      <td>300.425964</td>\n",
       "      <td>0.018649</td>\n",
       "      <td>381.586996</td>\n",
       "      <td>381.078217</td>\n",
       "    </tr>\n",
       "    <tr>\n",
       "      <td>3</td>\n",
       "      <td>1</td>\n",
       "      <td>1</td>\n",
       "      <td>1</td>\n",
       "      <td>4</td>\n",
       "      <td>104.101074</td>\n",
       "      <td>1.387764</td>\n",
       "      <td>18.679893</td>\n",
       "      <td>3.243279</td>\n",
       "      <td>29.517775</td>\n",
       "      <td>1006.709351</td>\n",
       "      <td>300.602356</td>\n",
       "      <td>0.018789</td>\n",
       "      <td>382.234411</td>\n",
       "      <td>381.725342</td>\n",
       "    </tr>\n",
       "    <tr>\n",
       "      <td>4</td>\n",
       "      <td>1</td>\n",
       "      <td>1</td>\n",
       "      <td>1</td>\n",
       "      <td>5</td>\n",
       "      <td>104.101074</td>\n",
       "      <td>1.387764</td>\n",
       "      <td>18.679893</td>\n",
       "      <td>3.245729</td>\n",
       "      <td>29.570362</td>\n",
       "      <td>1005.952942</td>\n",
       "      <td>300.748413</td>\n",
       "      <td>0.018838</td>\n",
       "      <td>382.011956</td>\n",
       "      <td>381.502502</td>\n",
       "    </tr>\n",
       "    <tr>\n",
       "      <td>...</td>\n",
       "      <td>...</td>\n",
       "      <td>...</td>\n",
       "      <td>...</td>\n",
       "      <td>...</td>\n",
       "      <td>...</td>\n",
       "      <td>...</td>\n",
       "      <td>...</td>\n",
       "      <td>...</td>\n",
       "      <td>...</td>\n",
       "      <td>...</td>\n",
       "      <td>...</td>\n",
       "      <td>...</td>\n",
       "      <td>...</td>\n",
       "      <td>...</td>\n",
       "    </tr>\n",
       "    <tr>\n",
       "      <td>197620</td>\n",
       "      <td>1</td>\n",
       "      <td>93</td>\n",
       "      <td>85</td>\n",
       "      <td>21</td>\n",
       "      <td>101.212708</td>\n",
       "      <td>23.116425</td>\n",
       "      <td>1303.248901</td>\n",
       "      <td>15018.905396</td>\n",
       "      <td>0.000294</td>\n",
       "      <td>103.884392</td>\n",
       "      <td>194.972870</td>\n",
       "      <td>0.000002</td>\n",
       "      <td>2398.735173</td>\n",
       "      <td>41.349300</td>\n",
       "    </tr>\n",
       "    <tr>\n",
       "      <td>197621</td>\n",
       "      <td>1</td>\n",
       "      <td>93</td>\n",
       "      <td>85</td>\n",
       "      <td>22</td>\n",
       "      <td>101.212708</td>\n",
       "      <td>23.116425</td>\n",
       "      <td>1303.248901</td>\n",
       "      <td>15011.298950</td>\n",
       "      <td>0.000303</td>\n",
       "      <td>103.802467</td>\n",
       "      <td>194.897842</td>\n",
       "      <td>0.000002</td>\n",
       "      <td>2397.524639</td>\n",
       "      <td>41.332684</td>\n",
       "    </tr>\n",
       "    <tr>\n",
       "      <td>197622</td>\n",
       "      <td>1</td>\n",
       "      <td>93</td>\n",
       "      <td>85</td>\n",
       "      <td>23</td>\n",
       "      <td>101.212708</td>\n",
       "      <td>23.116425</td>\n",
       "      <td>1303.248901</td>\n",
       "      <td>15011.410278</td>\n",
       "      <td>0.000309</td>\n",
       "      <td>103.801941</td>\n",
       "      <td>194.784470</td>\n",
       "      <td>0.000002</td>\n",
       "      <td>2397.566020</td>\n",
       "      <td>41.356590</td>\n",
       "    </tr>\n",
       "    <tr>\n",
       "      <td>197623</td>\n",
       "      <td>1</td>\n",
       "      <td>93</td>\n",
       "      <td>85</td>\n",
       "      <td>24</td>\n",
       "      <td>101.212708</td>\n",
       "      <td>23.116425</td>\n",
       "      <td>1303.248901</td>\n",
       "      <td>15011.165161</td>\n",
       "      <td>0.000309</td>\n",
       "      <td>103.800735</td>\n",
       "      <td>194.479874</td>\n",
       "      <td>0.000002</td>\n",
       "      <td>2397.591851</td>\n",
       "      <td>41.420895</td>\n",
       "    </tr>\n",
       "    <tr>\n",
       "      <td>197624</td>\n",
       "      <td>1</td>\n",
       "      <td>93</td>\n",
       "      <td>85</td>\n",
       "      <td>25</td>\n",
       "      <td>101.212708</td>\n",
       "      <td>23.116425</td>\n",
       "      <td>1303.248901</td>\n",
       "      <td>15011.128052</td>\n",
       "      <td>0.000307</td>\n",
       "      <td>103.792274</td>\n",
       "      <td>193.919678</td>\n",
       "      <td>0.000002</td>\n",
       "      <td>2397.702283</td>\n",
       "      <td>41.537151</td>\n",
       "    </tr>\n",
       "  </tbody>\n",
       "</table>\n",
       "<p>197625 rows × 14 columns</p>\n",
       "</div>"
      ],
      "text/plain": [
       "        nx  ny  nl  nt       xlong       xlat          hgt             z  \\\n",
       "0        1   1   1   1  104.101074   1.387764    18.679893      3.232424   \n",
       "1        1   1   1   2  104.101074   1.387764    18.679893      3.240555   \n",
       "2        1   1   1   3  104.101074   1.387764    18.679893      3.241436   \n",
       "3        1   1   1   4  104.101074   1.387764    18.679893      3.243279   \n",
       "4        1   1   1   5  104.101074   1.387764    18.679893      3.245729   \n",
       "...     ..  ..  ..  ..         ...        ...          ...           ...   \n",
       "197620   1  93  85  21  101.212708  23.116425  1303.248901  15018.905396   \n",
       "197621   1  93  85  22  101.212708  23.116425  1303.248901  15011.298950   \n",
       "197622   1  93  85  23  101.212708  23.116425  1303.248901  15011.410278   \n",
       "197623   1  93  85  24  101.212708  23.116425  1303.248901  15011.165161   \n",
       "197624   1  93  85  25  101.212708  23.116425  1303.248901  15011.128052   \n",
       "\n",
       "                e     pressure         Tem    QVAPOR           MM          NN  \n",
       "0       29.763758  1005.953430  299.462860  0.018965   384.977855  384.470490  \n",
       "1       29.191788  1006.418579  300.404114  0.018580   381.143834  380.635193  \n",
       "2       29.299547  1006.550781  300.425964  0.018649   381.586996  381.078217  \n",
       "3       29.517775  1006.709351  300.602356  0.018789   382.234411  381.725342  \n",
       "4       29.570362  1005.952942  300.748413  0.018838   382.011956  381.502502  \n",
       "...           ...          ...         ...       ...          ...         ...  \n",
       "197620   0.000294   103.884392  194.972870  0.000002  2398.735173   41.349300  \n",
       "197621   0.000303   103.802467  194.897842  0.000002  2397.524639   41.332684  \n",
       "197622   0.000309   103.801941  194.784470  0.000002  2397.566020   41.356590  \n",
       "197623   0.000309   103.800735  194.479874  0.000002  2397.591851   41.420895  \n",
       "197624   0.000307   103.792274  193.919678  0.000002  2397.702283   41.537151  \n",
       "\n",
       "[197625 rows x 14 columns]"
      ]
     },
     "execution_count": 23,
     "metadata": {},
     "output_type": "execute_result"
    }
   ],
   "source": [
    "#最终数据，合并成一个DataFrame\n",
    "data=pd.concat([prod,a,b,c,o,d,f,g,h,l,mm,nn],axis=1)\n",
    "data1=pd.DataFrame(data)\n",
    "data2=data1.iloc[0:197625,:]\n",
    "data2"
   ]
  },
  {
   "cell_type": "code",
   "execution_count": 24,
   "metadata": {
    "scrolled": true
   },
   "outputs": [],
   "source": [
    "data2.to_csv(\"D:/20年海洋/数据/模拟数据/时间层面导出数据/20170102nx1.csv\" , encoding = \"utf-8\", header=True, index=None)"
   ]
  },
  {
   "cell_type": "code",
   "execution_count": null,
   "metadata": {},
   "outputs": [],
   "source": []
  }
 ],
 "metadata": {
  "kernelspec": {
   "display_name": "Python 3",
   "language": "python",
   "name": "python3"
  },
  "language_info": {
   "codemirror_mode": {
    "name": "ipython",
    "version": 3
   },
   "file_extension": ".py",
   "mimetype": "text/x-python",
   "name": "python",
   "nbconvert_exporter": "python",
   "pygments_lexer": "ipython3",
   "version": "3.7.4"
  }
 },
 "nbformat": 4,
 "nbformat_minor": 2
}
