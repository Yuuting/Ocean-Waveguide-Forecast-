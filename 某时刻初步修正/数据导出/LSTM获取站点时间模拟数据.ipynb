{
 "cells": [
  {
   "cell_type": "code",
   "execution_count": 1,
   "metadata": {},
   "outputs": [],
   "source": [
    "import numpy as np\n",
    "import pandas as pd"
   ]
  },
  {
   "cell_type": "code",
   "execution_count": 20,
   "metadata": {},
   "outputs": [],
   "source": [
    "for i in range(10,32):\n",
    "    data=pd.read_csv(\"D:/20年海洋/数据/模拟数据/时间层面导出数据/201701\"+str(i)+\"nx1.csv\")\n",
    "    data1=data.iloc[0:24,:]\n",
    "    data1.to_csv(\"D:/20年海洋/数据/模拟数据/时间层面导出数据/201701nx1ny1nl1.csv\" ,mode='a',  encoding = \"utf-8\", header=None, index=None)"
   ]
  },
  {
   "cell_type": "code",
   "execution_count": null,
   "metadata": {},
   "outputs": [],
   "source": []
  }
 ],
 "metadata": {
  "kernelspec": {
   "display_name": "Python 3",
   "language": "python",
   "name": "python3"
  },
  "language_info": {
   "codemirror_mode": {
    "name": "ipython",
    "version": 3
   },
   "file_extension": ".py",
   "mimetype": "text/x-python",
   "name": "python",
   "nbconvert_exporter": "python",
   "pygments_lexer": "ipython3",
   "version": "3.7.4"
  }
 },
 "nbformat": 4,
 "nbformat_minor": 2
}
