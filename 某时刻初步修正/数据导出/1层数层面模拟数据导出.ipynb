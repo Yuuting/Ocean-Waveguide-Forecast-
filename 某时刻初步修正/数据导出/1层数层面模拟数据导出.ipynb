{
 "cells": [
  {
   "cell_type": "code",
   "execution_count": 18,
   "metadata": {},
   "outputs": [],
   "source": [
    "from netCDF4 import Dataset\n",
    "import numpy as np\n",
    "import pandas as pd"
   ]
  },
  {
   "cell_type": "code",
   "execution_count": 19,
   "metadata": {},
   "outputs": [],
   "source": [
    "path='‪D:/22monidata/wrfout_d02_2017-01-01_00_00_00'\n",
    "raw_data=Dataset(path)"
   ]
  },
  {
   "cell_type": "code",
   "execution_count": 20,
   "metadata": {},
   "outputs": [],
   "source": [
    "nx = pd.Series(np.arange(1,91)) #nx东西格点数\n",
    "ny = pd.Series(np.arange(1,94)) #ny南北格点数\n",
    "nl = pd.Series(np.arange(1,86))\n",
    "nt = pd.Series(np.arange(1,26))"
   ]
  },
  {
   "cell_type": "code",
   "execution_count": 21,
   "metadata": {},
   "outputs": [
    {
     "data": {
      "text/html": [
       "<div>\n",
       "<style scoped>\n",
       "    .dataframe tbody tr th:only-of-type {\n",
       "        vertical-align: middle;\n",
       "    }\n",
       "\n",
       "    .dataframe tbody tr th {\n",
       "        vertical-align: top;\n",
       "    }\n",
       "\n",
       "    .dataframe thead th {\n",
       "        text-align: right;\n",
       "    }\n",
       "</style>\n",
       "<table border=\"1\" class=\"dataframe\">\n",
       "  <thead>\n",
       "    <tr style=\"text-align: right;\">\n",
       "      <th></th>\n",
       "      <th>0</th>\n",
       "      <th>1</th>\n",
       "      <th>2</th>\n",
       "      <th>3</th>\n",
       "      <th>4</th>\n",
       "      <th>5</th>\n",
       "      <th>6</th>\n",
       "      <th>7</th>\n",
       "      <th>8</th>\n",
       "      <th>9</th>\n",
       "      <th>...</th>\n",
       "      <th>17786240</th>\n",
       "      <th>17786241</th>\n",
       "      <th>17786242</th>\n",
       "      <th>17786243</th>\n",
       "      <th>17786244</th>\n",
       "      <th>17786245</th>\n",
       "      <th>17786246</th>\n",
       "      <th>17786247</th>\n",
       "      <th>17786248</th>\n",
       "      <th>17786249</th>\n",
       "    </tr>\n",
       "  </thead>\n",
       "  <tbody>\n",
       "    <tr>\n",
       "      <td>nt</td>\n",
       "      <td>1</td>\n",
       "      <td>1</td>\n",
       "      <td>1</td>\n",
       "      <td>1</td>\n",
       "      <td>1</td>\n",
       "      <td>1</td>\n",
       "      <td>1</td>\n",
       "      <td>1</td>\n",
       "      <td>1</td>\n",
       "      <td>1</td>\n",
       "      <td>...</td>\n",
       "      <td>25</td>\n",
       "      <td>25</td>\n",
       "      <td>25</td>\n",
       "      <td>25</td>\n",
       "      <td>25</td>\n",
       "      <td>25</td>\n",
       "      <td>25</td>\n",
       "      <td>25</td>\n",
       "      <td>25</td>\n",
       "      <td>25</td>\n",
       "    </tr>\n",
       "    <tr>\n",
       "      <td>nx</td>\n",
       "      <td>1</td>\n",
       "      <td>1</td>\n",
       "      <td>1</td>\n",
       "      <td>1</td>\n",
       "      <td>1</td>\n",
       "      <td>1</td>\n",
       "      <td>1</td>\n",
       "      <td>1</td>\n",
       "      <td>1</td>\n",
       "      <td>1</td>\n",
       "      <td>...</td>\n",
       "      <td>90</td>\n",
       "      <td>90</td>\n",
       "      <td>90</td>\n",
       "      <td>90</td>\n",
       "      <td>90</td>\n",
       "      <td>90</td>\n",
       "      <td>90</td>\n",
       "      <td>90</td>\n",
       "      <td>90</td>\n",
       "      <td>90</td>\n",
       "    </tr>\n",
       "    <tr>\n",
       "      <td>ny</td>\n",
       "      <td>1</td>\n",
       "      <td>1</td>\n",
       "      <td>1</td>\n",
       "      <td>1</td>\n",
       "      <td>1</td>\n",
       "      <td>1</td>\n",
       "      <td>1</td>\n",
       "      <td>1</td>\n",
       "      <td>1</td>\n",
       "      <td>1</td>\n",
       "      <td>...</td>\n",
       "      <td>93</td>\n",
       "      <td>93</td>\n",
       "      <td>93</td>\n",
       "      <td>93</td>\n",
       "      <td>93</td>\n",
       "      <td>93</td>\n",
       "      <td>93</td>\n",
       "      <td>93</td>\n",
       "      <td>93</td>\n",
       "      <td>93</td>\n",
       "    </tr>\n",
       "    <tr>\n",
       "      <td>nl</td>\n",
       "      <td>1</td>\n",
       "      <td>2</td>\n",
       "      <td>3</td>\n",
       "      <td>4</td>\n",
       "      <td>5</td>\n",
       "      <td>6</td>\n",
       "      <td>7</td>\n",
       "      <td>8</td>\n",
       "      <td>9</td>\n",
       "      <td>10</td>\n",
       "      <td>...</td>\n",
       "      <td>76</td>\n",
       "      <td>77</td>\n",
       "      <td>78</td>\n",
       "      <td>79</td>\n",
       "      <td>80</td>\n",
       "      <td>81</td>\n",
       "      <td>82</td>\n",
       "      <td>83</td>\n",
       "      <td>84</td>\n",
       "      <td>85</td>\n",
       "    </tr>\n",
       "  </tbody>\n",
       "</table>\n",
       "<p>4 rows × 17786250 columns</p>\n",
       "</div>"
      ],
      "text/plain": [
       "    0         1         2         3         4         5         6         \\\n",
       "nt         1         1         1         1         1         1         1   \n",
       "nx         1         1         1         1         1         1         1   \n",
       "ny         1         1         1         1         1         1         1   \n",
       "nl         1         2         3         4         5         6         7   \n",
       "\n",
       "    7         8         9         ...  17786240  17786241  17786242  17786243  \\\n",
       "nt         1         1         1  ...        25        25        25        25   \n",
       "nx         1         1         1  ...        90        90        90        90   \n",
       "ny         1         1         1  ...        93        93        93        93   \n",
       "nl         8         9        10  ...        76        77        78        79   \n",
       "\n",
       "    17786244  17786245  17786246  17786247  17786248  17786249  \n",
       "nt        25        25        25        25        25        25  \n",
       "nx        90        90        90        90        90        90  \n",
       "ny        93        93        93        93        93        93  \n",
       "nl        80        81        82        83        84        85  \n",
       "\n",
       "[4 rows x 17786250 columns]"
      ]
     },
     "execution_count": 21,
     "metadata": {},
     "output_type": "execute_result"
    }
   ],
   "source": [
    "import itertools\n",
    "# index的笛卡尔乘积。注意：高维在前，低维在后\n",
    "prod = itertools.product(nt,nx,ny,nl)\n",
    "# 转换为DataFrame\n",
    "prod = pd.DataFrame([x for x in prod])\n",
    "prod.columns = [ 'nt','nx','ny', 'nl']\n",
    "prod.T"
   ]
  },
  {
   "cell_type": "code",
   "execution_count": 22,
   "metadata": {},
   "outputs": [
    {
     "data": {
      "text/plain": [
       "(25, 85, 93, 90)"
      ]
     },
     "execution_count": 22,
     "metadata": {},
     "output_type": "execute_result"
    }
   ],
   "source": [
    "raw_data.variables['T'][:]    # 访问变量数据的方法，返回numpy掩码数组\n",
    "np.array(raw_data.variables['T'][:])     # 可以直接转成numpy数组\n",
    "# 利用‘P’和‘PB’计算气压值pressure\n",
    "pressure = (raw_data.variables['P'][:] + raw_data.variables['PB'][:]) / 100\n",
    "pressure.shape"
   ]
  },
  {
   "cell_type": "code",
   "execution_count": 23,
   "metadata": {},
   "outputs": [
    {
     "data": {
      "text/plain": [
       "(25, 85, 93, 90)"
      ]
     },
     "execution_count": 23,
     "metadata": {},
     "output_type": "execute_result"
    }
   ],
   "source": [
    "# 利用‘PH’和‘PHB’计算高度值height\n",
    "PH, PHB = raw_data.variables['PH'][:], raw_data.variables['PHB'][:]\n",
    "PHH = 0.5 * (PH[:, :85, :, :] + PH[:, 1:86, :, :])\n",
    "PHBH = 0.5 * (PHB[:, :85, :, :] + PHB[:, 1:86, :, :])\n",
    "GEOPT = PHH + PHBH\n",
    "height = GEOPT / 9.81   # 求高度值\n",
    "height.shape"
   ]
  },
  {
   "cell_type": "code",
   "execution_count": 24,
   "metadata": {},
   "outputs": [
    {
     "data": {
      "text/plain": [
       "(25, 85, 93, 90)"
      ]
     },
     "execution_count": 24,
     "metadata": {},
     "output_type": "execute_result"
    }
   ],
   "source": [
    "# 利用‘T’和‘pressure’计算温度值T\n",
    "T = raw_data.variables['T'][:]\n",
    "Tem = (T + 300.) / (1000. / pressure) **0.286\n",
    "Tem.shape"
   ]
  },
  {
   "cell_type": "code",
   "execution_count": 25,
   "metadata": {},
   "outputs": [
    {
     "data": {
      "text/plain": [
       "((25, 85, 93, 90), (25, 85, 93, 90))"
      ]
     },
     "execution_count": 25,
     "metadata": {},
     "output_type": "execute_result"
    }
   ],
   "source": [
    "# 利用‘QVAPOR’计算水气压值\n",
    "QVAPOR = raw_data.variables['QVAPOR'][:]  # 水汽混合比\n",
    "e = QVAPOR * pressure / (0.622 + QVAPOR) \n",
    "QVAPOR.shape,e.shape"
   ]
  },
  {
   "cell_type": "code",
   "execution_count": 26,
   "metadata": {},
   "outputs": [
    {
     "data": {
      "text/plain": [
       "((25, 93, 90), (25, 93, 90), (25, 93, 90))"
      ]
     },
     "execution_count": 26,
     "metadata": {},
     "output_type": "execute_result"
    }
   ],
   "source": [
    "XLONG = raw_data.variables['XLONG'][:]    # 读取经度值\n",
    "HGT = raw_data.variables['HGT'][:]    # 读取海拔高度\n",
    "XLAT = raw_data.variables['XLAT'][:]    # 读取纬度值\n",
    "XLONG.shape,XLAT.shape,HGT.shape"
   ]
  },
  {
   "cell_type": "code",
   "execution_count": 27,
   "metadata": {},
   "outputs": [
    {
     "data": {
      "text/plain": [
       "((25, 93, 90, 85), (25, 93, 90, 85), (25, 93, 90, 85))"
      ]
     },
     "execution_count": 27,
     "metadata": {},
     "output_type": "execute_result"
    }
   ],
   "source": [
    "xlong, xlat,hgt = np.zeros((25,93,90,85)), np.zeros((25,93,90,85)), np.zeros((25,93,90,85))\n",
    "#转化为四维数组\n",
    "for i in range(85):\n",
    "    xlong[:,:,:,i]=XLONG[:,:,:]\n",
    "    xlat[:,:,:,i]=XLAT[:,:,:]\n",
    "    hgt[:,:,:,i]=HGT[:,:,:]\n",
    "xlong.shape,xlat.shape,hgt.shape"
   ]
  },
  {
   "cell_type": "code",
   "execution_count": 28,
   "metadata": {},
   "outputs": [
    {
     "data": {
      "text/plain": [
       "[(25, 90, 93, 85),\n",
       " (25, 90, 93, 85),\n",
       " (25, 90, 93, 85),\n",
       " (25, 90, 93, 85),\n",
       " (25, 90, 93, 85),\n",
       " (25, 90, 93, 85),\n",
       " (25, 90, 93, 85),\n",
       " (25, 90, 93, 85)]"
      ]
     },
     "execution_count": 28,
     "metadata": {},
     "output_type": "execute_result"
    }
   ],
   "source": [
    "# 根据Fortran的代码转化数据维度  (nx东西格点数, ny南北格点数, nl垂直层数, nt时次数)\n",
    "e = e.transpose((0,3, 2, 1))\n",
    "Tem = Tem.transpose((0,3, 2, 1))\n",
    "QVAPOR = QVAPOR.transpose((0,3, 2, 1))\n",
    "pressure = pressure.transpose((0,3, 2, 1))\n",
    "height = height.transpose((0,3, 2, 1))\n",
    "xlong = xlong.transpose((0,2, 1, 3))\n",
    "hgt = hgt.transpose((0,2, 1, 3))\n",
    "xlat = xlat.transpose((0,2, 1, 3))\n",
    "z=height-hgt\n",
    "[e.shape, Tem.shape, pressure.shape, height.shape, hgt.shape, xlat.shape ,xlong.shape,z.shape]"
   ]
  },
  {
   "cell_type": "code",
   "execution_count": 29,
   "metadata": {},
   "outputs": [
    {
     "data": {
      "text/plain": [
       "((25, 90, 93, 85), (25, 90, 93, 85))"
      ]
     },
     "execution_count": 29,
     "metadata": {},
     "output_type": "execute_result"
    }
   ],
   "source": [
    "# 计算折射率，NN是原始折射率，MM是修正折射率\n",
    "re = 6371.\n",
    "NN = (3.73*10**5*e)/(Tem**2)+(77.6*pressure)/(Tem)\n",
    "MM = (3.73*10**5*e)/(Tem**2)+(77.6*pressure)/(Tem)+((height-hgt)/(re*1000.)*10**6)\n",
    "NN.shape, MM.shape"
   ]
  },
  {
   "cell_type": "code",
   "execution_count": 30,
   "metadata": {},
   "outputs": [],
   "source": [
    "a=xlong.flatten()\n",
    "a = pd.Series(a)\n",
    "a.name = 'xlong'\n",
    "\n",
    "b=xlat.flatten()\n",
    "b = pd.Series(b)\n",
    "b.name = 'xlat'\n",
    "\n",
    "c=hgt.flatten()\n",
    "c = pd.Series(c)\n",
    "c.name = 'hgt'\n",
    "\n",
    "o=height.flatten()\n",
    "o=pd.Series(o)\n",
    "o.name='height'\n",
    "\n",
    "d=z.flatten()\n",
    "d = pd.Series(d)\n",
    "d.name = 'z'\n",
    "\n",
    "f=e.flatten()\n",
    "f = pd.Series(f)\n",
    "f.name = 'e'\n",
    "\n",
    "g=pressure.flatten()\n",
    "g = pd.Series(g)\n",
    "g.name = 'pressure'\n",
    "\n",
    "h=Tem.flatten()\n",
    "h = pd.Series(h)\n",
    "h.name = 'Tem'\n",
    "\n",
    "l=QVAPOR.flatten()\n",
    "l = pd.Series(l)\n",
    "l.name = 'QVAPOR'\n",
    "\n",
    "mm=MM.flatten()\n",
    "mm = pd.Series(mm)\n",
    "mm.name = 'MM'\n",
    "\n",
    "nn=NN.flatten()\n",
    "nn = pd.Series(nn)\n",
    "nn.name = 'NN'"
   ]
  },
  {
   "cell_type": "code",
   "execution_count": 31,
   "metadata": {},
   "outputs": [
    {
     "data": {
      "text/plain": [
       "(        nt  nx  ny  nl       xlong       xlat        hgt        height  \\\n",
       " 0        1   1   1   1  104.101074   1.387764  18.679893     21.906155   \n",
       " 1        1   1   1   2  104.101074   1.387764  18.679893     27.956425   \n",
       " 2        1   1   1   3  104.101074   1.387764  18.679893     32.395199   \n",
       " 3        1   1   1   4  104.101074   1.387764  18.679893     36.432667   \n",
       " 4        1   1   1   5  104.101074   1.387764  18.679893     40.874550   \n",
       " ...     ..  ..  ..  ..         ...        ...        ...           ...   \n",
       " 711445   1  90  93  81  126.461487  22.871384   0.000000  14474.018555   \n",
       " 711446   1  90  93  82  126.461487  22.871384   0.000000  15297.822266   \n",
       " 711447   1  90  93  83  126.461487  22.871384   0.000000  15847.804688   \n",
       " 711448   1  90  93  84  126.461487  22.871384   0.000000  16040.171875   \n",
       " 711449   1  90  93  85  126.461487  22.871384   0.000000  16362.005859   \n",
       " \n",
       "                    z          e     pressure         Tem    QVAPOR  \\\n",
       " 0           3.226261  29.155886  1007.118652  299.259735  0.018544   \n",
       " 1           9.276531  29.096344  1006.681946  299.237122  0.018513   \n",
       " 2          13.715305  29.026438  1005.458984  299.143677  0.018490   \n",
       " 3          17.752773  28.994558  1005.462158  299.153320  0.018469   \n",
       " 4          22.194656  28.934591  1005.305054  299.153412  0.018433   \n",
       " ...              ...        ...          ...         ...       ...   \n",
       " 711445  14474.018555   0.001004   144.668930  205.811829  0.000004   \n",
       " 711446  15297.822266   0.000717   126.000374  199.550827  0.000004   \n",
       " 711447  15847.804688   0.000532   114.340614  195.898788  0.000003   \n",
       " 711448  16040.171875   0.000481   110.546944  194.776993  0.000003   \n",
       " 711449  16362.005859   0.000410   104.529724  193.087830  0.000002   \n",
       " \n",
       "                  MM          NN  \n",
       " 0        383.092335  382.585938  \n",
       " 1        383.718782  382.262726  \n",
       " 2        383.964173  381.811401  \n",
       " 3        384.449614  381.663116  \n",
       " 4        384.856015  381.372314  \n",
       " ...             ...         ...  \n",
       " 711445  2326.415077   54.555313  \n",
       " 711446  2450.169910   49.004902  \n",
       " 711447  2532.789029   45.298103  \n",
       " 711448  2561.732224   44.047108  \n",
       " 711449  2610.214094   42.013519  \n",
       " \n",
       " [711450 rows x 15 columns],\n",
       "         nt  nx  ny  nl       xlong       xlat        hgt       height  \\\n",
       " 0        1   1   1   1  104.101074   1.387764  18.679893    21.906155   \n",
       " 1        1   1   1   2  104.101074   1.387764  18.679893    27.956425   \n",
       " 2        1   1   1   3  104.101074   1.387764  18.679893    32.395199   \n",
       " 3        1   1   1   4  104.101074   1.387764  18.679893    36.432667   \n",
       " 4        1   1   1   5  104.101074   1.387764  18.679893    40.874550   \n",
       " ...     ..  ..  ..  ..         ...        ...        ...          ...   \n",
       " 711405   1  90  93  41  126.461487  22.871384   0.000000  1872.088013   \n",
       " 711406   1  90  93  42  126.461487  22.871384   0.000000  2127.687988   \n",
       " 711407   1  90  93  43  126.461487  22.871384   0.000000  2384.219482   \n",
       " 711408   1  90  93  44  126.461487  22.871384   0.000000  2641.170654   \n",
       " 711409   1  90  93  45  126.461487  22.871384   0.000000  2898.699463   \n",
       " \n",
       "                   z          e     pressure         Tem    QVAPOR          MM  \\\n",
       " 0          3.226261  29.155886  1007.118652  299.259735  0.018544  383.092335   \n",
       " 1          9.276531  29.096344  1006.681946  299.237122  0.018513  383.718782   \n",
       " 2         13.715305  29.026438  1005.458984  299.143677  0.018490  383.964173   \n",
       " 3         17.752773  28.994558  1005.462158  299.153320  0.018469  384.449614   \n",
       " 4         22.194656  28.934591  1005.305054  299.153412  0.018433  384.856015   \n",
       " ...             ...        ...          ...         ...       ...         ...   \n",
       " 711405  1872.088013   5.365394   819.722961  284.245605  0.004098  542.402154   \n",
       " 711406  2127.687988   1.144477   795.002747  285.659790  0.000897  555.159853   \n",
       " 711407  2384.219482   0.261065   771.093933  284.936523  0.000211  585.430173   \n",
       " 711408  2641.170654   0.487042   747.693115  283.667847  0.000405  621.357493   \n",
       " 711409  2898.699463   0.202256   724.773438  282.978119  0.000174  654.677374   \n",
       " \n",
       "                 NN  \n",
       " 0       382.585938  \n",
       " 1       382.262726  \n",
       " 2       381.811401  \n",
       " 3       381.663116  \n",
       " 4       381.372314  \n",
       " ...            ...  \n",
       " 711405  248.556915  \n",
       " 711406  221.195328  \n",
       " 711407  211.200150  \n",
       " 711408  206.796097  \n",
       " 711409  199.693939  \n",
       " \n",
       " [376650 rows x 15 columns])"
      ]
     },
     "execution_count": 31,
     "metadata": {},
     "output_type": "execute_result"
    }
   ],
   "source": [
    "#最终数据，合并成一个DataFrame\n",
    "data=pd.concat([prod,a,b,c,o,d,f,g,h,l,mm,nn],axis=1)\n",
    "data1=pd.DataFrame(data)\n",
    "data2=data1.iloc[0:711450,:]\n",
    "data3=data2.loc[data2['nl']<46,:]\n",
    "data2,data3"
   ]
  },
  {
   "cell_type": "code",
   "execution_count": 32,
   "metadata": {},
   "outputs": [],
   "source": [
    "#改动时间和日期\n",
    "data2.to_csv(\"D:/20年海洋/数据/模拟数据/层数层面导出数据/20170101nt1.csv\" , encoding = \"utf-8\", header=True, index=None)"
   ]
  },
  {
   "cell_type": "code",
   "execution_count": 33,
   "metadata": {},
   "outputs": [],
   "source": [
    "#改动时间和日期\n",
    "data3.to_csv(\"D:/20年海洋/数据/模拟数据/3000m层数层面导出数据/20170101nt1.csv\" , encoding = \"utf-8\", header=True, index=None)"
   ]
  },
  {
   "cell_type": "code",
   "execution_count": null,
   "metadata": {},
   "outputs": [],
   "source": []
  }
 ],
 "metadata": {
  "kernelspec": {
   "display_name": "Python 3",
   "language": "python",
   "name": "python3"
  },
  "language_info": {
   "codemirror_mode": {
    "name": "ipython",
    "version": 3
   },
   "file_extension": ".py",
   "mimetype": "text/x-python",
   "name": "python",
   "nbconvert_exporter": "python",
   "pygments_lexer": "ipython3",
   "version": "3.7.4"
  }
 },
 "nbformat": 4,
 "nbformat_minor": 2
}
