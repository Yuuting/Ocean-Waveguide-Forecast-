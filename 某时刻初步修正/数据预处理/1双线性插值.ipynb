{
 "cells": [
  {
   "cell_type": "code",
   "execution_count": 1,
   "metadata": {},
   "outputs": [],
   "source": [
    "import pandas as pd\n",
    "import numpy as np\n",
    "from numpy import *\n",
    "from pandas import DataFrame"
   ]
  },
  {
   "cell_type": "code",
   "execution_count": 3,
   "metadata": {},
   "outputs": [
    {
     "name": "stdout",
     "output_type": "stream",
     "text": [
      "19\n"
     ]
    }
   ],
   "source": [
    "#改动时间和日期\n",
    "data1=pd.read_csv(\"D:/20年海洋/数据/模拟数据/3000m层数层面导出数据/20170101nt1.csv\" , encoding = \"utf-8\")\n",
    "#改动时间和日期\n",
    "data2=pd.read_csv(\"D:/20年海洋/数据/探空数据/分月站点信息/1/2017-01-01 08.csv\" , encoding = \"utf-8\")\n",
    "zhandian=np.array(data2['站号'])\n",
    "jingdu=np.array(data2['经度'])\n",
    "weidu=np.array(data2['维度'])\n",
    "print(len(zhandian))"
   ]
  },
  {
   "cell_type": "code",
   "execution_count": 4,
   "metadata": {},
   "outputs": [],
   "source": [
    "def chizhi(long,long1,long2,long3,long4,lat,lat1,lat2,e1,e2,e3,e4):\n",
    "    a=e1-(e1-e3)*(long1-long)/(long1-long3)\n",
    "    b=e2-(e2-e4)*(long2-long)/(long2-long4)\n",
    "    e=a-(a-b)*(lat1-lat)/(lat1-lat2)\n",
    "    return e"
   ]
  },
  {
   "cell_type": "code",
   "execution_count": 5,
   "metadata": {},
   "outputs": [],
   "source": [
    "#改动时间和日期\n",
    "writer=pd.ExcelWriter(\"D:/20年海洋/3000m以下/数据预处理/双线性插值/20170101_00.xlsx\")\n",
    "for i in range(0,len(zhandian)):\n",
    "    data3=pd.read_excel(\"D:/20年海洋/数据/探空点周围四点.xlsx\",sheet_name=str(zhandian[i]))\n",
    "    ny=np.array(data3['ny'])\n",
    "    nx=np.array(data3['nx'])\n",
    "    jingdu1=np.array(data3['经度'])\n",
    "    weidu1=np.array(data3['纬度'])\n",
    "    \n",
    "    data_i1=data1.loc[data1['ny']==ny[0]]\n",
    "    data_j1=data_i1.loc[data_i1['nx']==nx[0]]\n",
    "\n",
    "    data_i2=data1.loc[data1['ny']==ny[1]]\n",
    "    data_j2=data_i2.loc[data_i2['nx']==nx[1]]\n",
    "\n",
    "    data_i3=data1.loc[data1['ny']==ny[2]]\n",
    "    data_j3=data_i3.loc[data_i3['nx']==nx[2]]\n",
    "\n",
    "    data_i4=data1.loc[data1['ny']==ny[3]]\n",
    "    data_j4=data_i4.loc[data_i4['nx']==nx[3]]\n",
    "\n",
    "    e1=array(data_j1['e'])\n",
    "    e2=array(data_j2['e'])\n",
    "    e3=array(data_j3['e'])\n",
    "    e4=array(data_j4['e'])\n",
    "    Tem1=array(data_j1['Tem'])\n",
    "    Tem2=array(data_j2['Tem'])\n",
    "    Tem3=array(data_j3['Tem'])\n",
    "    Tem4=array(data_j4['Tem'])\n",
    "    pressure1=array(data_j1['pressure'])\n",
    "    pressure2=array(data_j2['pressure'])\n",
    "    pressure3=array(data_j3['pressure'])\n",
    "    pressure4=array(data_j4['pressure'])\n",
    "    height1=array(data_j1['z'])\n",
    "    height2=array(data_j2['z'])\n",
    "    height3=array(data_j3['z'])\n",
    "    height4=array(data_j4['z'])\n",
    "    QVAPOR1=array(data_j1['QVAPOR'])\n",
    "    QVAPOR2=array(data_j2['QVAPOR'])\n",
    "    QVAPOR3=array(data_j3['QVAPOR'])\n",
    "    QVAPOR4=array(data_j4['QVAPOR'])\n",
    "    \n",
    "    a=['层','e','Tem','pressure','z','QVAPOR']\n",
    "    a=pd.DataFrame(a)\n",
    "    a=a.T\n",
    "    a.to_excel(writer,str(zhandian[i]),startrow=0,startcol=0,header=None,index=None)\n",
    "    \n",
    "    b=np.linspace(1,45,45)\n",
    "    b=pd.DataFrame(b)\n",
    "    b.to_excel(writer,str(zhandian[i]),startrow=1,startcol=0,header=None,index=None)\n",
    "    \n",
    "    e=chizhi(jingdu[i],jingdu1[0],jingdu1[1],jingdu1[2],jingdu1[3],weidu[i],weidu1[0],weidu1[1],e1,e2,e3,e4)\n",
    "    e=pd.DataFrame(e)\n",
    "    e.to_excel(writer,str(zhandian[i]),startrow=1,startcol=1,header=None,index=None)\n",
    "    \n",
    "    Tem=chizhi(jingdu[i],jingdu1[0],jingdu1[1],jingdu1[2],jingdu1[3],weidu[i],weidu1[0],weidu1[1],Tem1,Tem2,Tem3,Tem4)\n",
    "    Tem=pd.DataFrame(Tem)\n",
    "    Tem.to_excel(writer,str(zhandian[i]),startrow=1,startcol=2,header=None,index=None)\n",
    "    \n",
    "    pressure=chizhi(jingdu[i],jingdu1[0],jingdu1[1],jingdu1[2],jingdu1[3],weidu[i],weidu1[0],weidu1[1],pressure1,pressure2,pressure3,pressure4)\n",
    "    pressure=pd.DataFrame(pressure)\n",
    "    pressure.to_excel(writer,str(zhandian[i]),startrow=1,startcol=3,header=None,index=None)\n",
    "    \n",
    "    height=chizhi(jingdu[i],jingdu1[0],jingdu1[1],jingdu1[2],jingdu1[3],weidu[i],weidu1[0],weidu1[1],height1,height2,height3,height4)\n",
    "    height=pd.DataFrame(height)\n",
    "    height.to_excel(writer,str(zhandian[i]),startrow=1,startcol=4,header=None,index=None)\n",
    "    \n",
    "    QVAPOR=chizhi(jingdu[i],jingdu1[0],jingdu1[1],jingdu1[2],jingdu1[3],weidu[i],weidu1[0],weidu1[1],QVAPOR1,QVAPOR2,QVAPOR3,QVAPOR4)\n",
    "    QVAPOR=pd.DataFrame(QVAPOR)\n",
    "    QVAPOR.to_excel(writer,str(zhandian[i]),startrow=1,startcol=5,header=None,index=None)\n",
    "       \n",
    "writer.save()"
   ]
  },
  {
   "cell_type": "code",
   "execution_count": null,
   "metadata": {},
   "outputs": [],
   "source": []
  }
 ],
 "metadata": {
  "kernelspec": {
   "display_name": "Python 3",
   "language": "python",
   "name": "python3"
  },
  "language_info": {
   "codemirror_mode": {
    "name": "ipython",
    "version": 3
   },
   "file_extension": ".py",
   "mimetype": "text/x-python",
   "name": "python",
   "nbconvert_exporter": "python",
   "pygments_lexer": "ipython3",
   "version": "3.7.4"
  }
 },
 "nbformat": 4,
 "nbformat_minor": 2
}
